{
 "cells": [
  {
   "cell_type": "markdown",
   "metadata": {},
   "source": [
    "# CNN 활용 TSR 검출"
   ]
  },
  {
   "cell_type": "markdown",
   "metadata": {},
   "source": [
    "### import"
   ]
  },
  {
   "cell_type": "code",
   "execution_count": 1,
   "metadata": {},
   "outputs": [],
   "source": [
    "import pickle, cv2\n",
    "import numpy as np\n",
    "import pandas as pd\n",
    "import random as rnd\n",
    "import matplotlib.pyplot as plt\n",
    "import tensorflow as tf\n",
    "from sklearn.utils import shuffle\n",
    "from tensorflow.contrib.layers import flatten\n",
    "%matplotlib inline"
   ]
  },
  {
   "cell_type": "markdown",
   "metadata": {},
   "source": [
    "### 학습 데이터 로드"
   ]
  },
  {
   "cell_type": "code",
   "execution_count": 2,
   "metadata": {},
   "outputs": [],
   "source": [
    "with open('traffic-signs-data/train.p', mode='rb') as f:\n",
    "    train = pickle.load(f)\n",
    "with open('traffic-signs-data/valid.p', mode='rb') as f:\n",
    "    valid = pickle.load(f)\n",
    "with open('traffic-signs-data/test.p', mode='rb') as f:\n",
    "    test = pickle.load(f)"
   ]
  },
  {
   "cell_type": "markdown",
   "metadata": {},
   "source": [
    "### train, validation, test 세팅"
   ]
  },
  {
   "cell_type": "code",
   "execution_count": 3,
   "metadata": {},
   "outputs": [],
   "source": [
    "X_train, y_train = train['features'], train['labels']\n",
    "X_valid, y_valid = valid['features'], valid['labels']\n",
    "X_test, y_test = test['features'], test['labels']\n",
    "\n",
    "n_train = len(X_train)\n",
    "n_validation = len(X_valid)\n",
    "n_test = len(X_test)\n",
    "image_shape = X_train[0].shape\n",
    "n_classes = len(np.unique(y_train))"
   ]
  },
  {
   "cell_type": "markdown",
   "metadata": {},
   "source": [
    "### 이미지 normalize"
   ]
  },
  {
   "cell_type": "code",
   "execution_count": 4,
   "metadata": {},
   "outputs": [],
   "source": [
    "def norm(image_data):\n",
    "    return image_data / 255"
   ]
  },
  {
   "cell_type": "markdown",
   "metadata": {},
   "source": [
    "### CLAHE (Contrast Limited Adaptive Histogram Equalization) 적용"
   ]
  },
  {
   "cell_type": "code",
   "execution_count": 5,
   "metadata": {},
   "outputs": [],
   "source": [
    "X_train_gray = []\n",
    "X_train_CLAHE = []\n",
    "X_valid_gray = []\n",
    "X_valid_CLAHE = []\n",
    "X_test_gray = []\n",
    "X_test_CLAHE = []\n",
    "\n",
    "clahe = cv2.createCLAHE(clipLimit=2.0, tileGridSize=(4,4))\n",
    "for i in range(n_train):\n",
    "    X_train_gray.append(cv2.cvtColor(X_train[i], cv2.COLOR_RGB2GRAY))\n",
    "    X_train_CLAHE.append(clahe.apply(X_train_gray[i]))\n",
    "for i in range(n_validation):\n",
    "    X_valid_gray.append(cv2.cvtColor(X_valid[i], cv2.COLOR_RGB2GRAY))\n",
    "    X_valid_CLAHE.append(clahe.apply(X_valid_gray[i]))\n",
    "for i in range(n_test):\n",
    "    X_test_gray.append(cv2.cvtColor(X_test[i], cv2.COLOR_RGB2GRAY))\n",
    "    X_test_CLAHE.append(clahe.apply(X_test_gray[i]))"
   ]
  },
  {
   "cell_type": "markdown",
   "metadata": {},
   "source": [
    "### 데이터 평준화"
   ]
  },
  {
   "cell_type": "code",
   "execution_count": 6,
   "metadata": {},
   "outputs": [],
   "source": [
    "X_train_arr = np.array(X_train_CLAHE)\n",
    "X_valid_arr = np.array(X_valid_CLAHE)\n",
    "X_test_arr = np.array(X_test_CLAHE)\n",
    "X_train_arr = X_train_arr.reshape(X_train_arr.shape + (1,))\n",
    "X_valid_arr = X_valid_arr.reshape(X_valid_arr.shape + (1,))\n",
    "X_test_arr = X_test_arr.reshape(X_test_arr.shape + (1,))\n",
    "X_train = norm(X_train_arr)\n",
    "X_valid = norm(X_valid_arr)\n",
    "X_test = norm(X_test_arr)"
   ]
  },
  {
   "cell_type": "markdown",
   "metadata": {},
   "source": [
    "### CNN 설계"
   ]
  },
  {
   "cell_type": "code",
   "execution_count": 7,
   "metadata": {},
   "outputs": [],
   "source": [
    "def LeNet(x, keep_prob):    \n",
    "    # Arguments used for tf.truncated_normal, randomly defines variables for the weights and biases for each layer\n",
    "    mu = 0\n",
    "    sigma = 0.1\n",
    "    \n",
    "    # Layer 1: Convolutional. Input = 32x32x1. Output = 32x32x96.\n",
    "    conv1_W = tf.Variable(tf.truncated_normal(shape=(5, 5, 1, 96), mean = mu, stddev = sigma))\n",
    "    conv1_b = tf.Variable(tf.zeros(96))\n",
    "    conv1   = tf.nn.conv2d(x, conv1_W, strides=[1, 1, 1, 1], padding='SAME') + conv1_b\n",
    "    # Activation.\n",
    "    conv1 = tf.nn.relu(conv1)\n",
    "    # pooling. Input = 32x32x96. Output = 16x16x96.\n",
    "    conv1 = tf.nn.max_pool(conv1, ksize=[1, 2, 2, 1], strides=[1, 2, 2, 1], padding='SAME')\n",
    "\n",
    "    # Layer 2: Convolutional. Output = 16x16x128.  \n",
    "    conv2_W = tf.Variable(tf.truncated_normal(shape=(4, 4, 96, 128), mean = mu, stddev = sigma))\n",
    "    conv2_b = tf.Variable(tf.zeros(128))\n",
    "    conv2   = tf.nn.conv2d(conv1, conv2_W, strides=[1, 1, 1, 1], padding='SAME') + conv2_b \n",
    "    # Activation.\n",
    "    conv2 = tf.nn.relu(conv2)\n",
    "    # pooling. Input = 16x16x128. Output = 8x8x128.\n",
    "    conv2 = tf.nn.max_pool(conv2, ksize=[1, 2, 2, 1], strides=[1, 2, 2, 1], padding='SAME')\n",
    "    \n",
    "    # Layer 3: Convolutional. Output = 8x8x256.  \n",
    "    conv3_W = tf.Variable(tf.truncated_normal(shape=(4, 4, 128, 256), mean = mu, stddev = sigma))\n",
    "    conv3_b = tf.Variable(tf.zeros(256))\n",
    "    conv3   = tf.nn.conv2d(conv2, conv3_W, strides=[1, 1, 1, 1], padding='SAME') + conv3_b \n",
    "    # Activation.\n",
    "    conv3 = tf.nn.relu(conv3)\n",
    "    # pooling. Input = 8x8x256. Output = 4x4x256.  \n",
    "    conv3 = tf.nn.max_pool(conv3, ksize=[1, 2, 2, 1], strides=[1, 2, 2, 1], padding='SAME')\n",
    "    \n",
    "    # Layer 4: Convolutional. Output = 4x4x256.\n",
    "    conv4_W = tf.Variable(tf.truncated_normal(shape=(4, 4, 256, 256), mean = mu, stddev = sigma))\n",
    "    conv4_b = tf.Variable(tf.zeros(256))\n",
    "    conv4   = tf.nn.conv2d(conv3, conv4_W, strides=[1, 1, 1, 1], padding='SAME') + conv4_b    \n",
    "    # Activation.\n",
    "    conv4 = tf.nn.relu(conv4)\n",
    "    conv4 = tf.nn.dropout(conv4, keep_prob)\n",
    "        \n",
    "    # Flatten. Input = 4x4x256. Output = 4096.\n",
    "    fc0   = flatten(conv4)\n",
    "    \n",
    "    # Layer 5: Fully Connected. Input = 4096. Output = 4096.\n",
    "    fc1_W = tf.Variable(tf.truncated_normal(shape=(4096, 512), mean = mu, stddev = sigma))\n",
    "    fc1_b = tf.Variable(tf.zeros(512))\n",
    "    fc1   = tf.matmul(fc0, fc1_W) + fc1_b    \n",
    "    # Activation.\n",
    "    fc1    = tf.nn.relu(fc1)\n",
    "    # Dropout\n",
    "    fc1 = tf.nn.dropout(fc1, keep_prob)\n",
    "\n",
    "    # Layer 6: Fully Connected. Input = 4096. Output = 1024.\n",
    "    fc2_W = tf.Variable(tf.truncated_normal(shape=(512, 128), mean = mu, stddev = sigma))\n",
    "    fc2_b = tf.Variable(tf.zeros(128))\n",
    "    fc2   = tf.matmul(fc1, fc2_W) + fc2_b    \n",
    "    # Activation.\n",
    "    fc2    = tf.nn.relu(fc2)\n",
    "    # Dropout\n",
    "    fc2 = tf.nn.dropout(fc2, keep_prob)\n",
    "    \n",
    "    # Layer 7: Fully Connected. Input = 1024. Output = 43.\n",
    "    fc3_W  = tf.Variable(tf.truncated_normal(shape=(128, 43), mean = mu, stddev = sigma))\n",
    "    fc3_b  = tf.Variable(tf.zeros(43)) \n",
    "    logits    = tf.matmul(fc2, fc3_W) + fc3_b    \n",
    "    \n",
    "    return logits"
   ]
  },
  {
   "cell_type": "markdown",
   "metadata": {},
   "source": [
    "### plot 차트"
   ]
  },
  {
   "cell_type": "code",
   "execution_count": 8,
   "metadata": {},
   "outputs": [],
   "source": [
    "def plot_train(train_acc, valid_acc):\n",
    "    fig, ax = plt.subplots()\n",
    "    ax.plot(range(len(train_acc)), train_acc, label=\"Training Accuracy\")\n",
    "    ax.plot(range(len(valid_acc)), valid_acc, label=\"Validation Accuracy\")\n",
    "    \n",
    "    ax.set_xlabel('Training epochs')\n",
    "    ax.set_ylabel('Accuracy')\n",
    "    ax.legend(loc=4)\n",
    "    ax.set_ylim([0,1])\n",
    "    plt.yticks(np.arange(0, 1.1, 0.05))\n",
    "    plt.grid(True)\n",
    "    plt.show()"
   ]
  },
  {
   "cell_type": "markdown",
   "metadata": {},
   "source": [
    "### Training and Model Save"
   ]
  },
  {
   "cell_type": "code",
   "execution_count": 9,
   "metadata": {},
   "outputs": [
    {
     "name": "stdout",
     "output_type": "stream",
     "text": [
      "WARNING:tensorflow:From <ipython-input-9-9249bc83df32>:11: softmax_cross_entropy_with_logits (from tensorflow.python.ops.nn_ops) is deprecated and will be removed in a future version.\n",
      "Instructions for updating:\n",
      "\n",
      "Future major versions of TensorFlow will allow gradients to flow\n",
      "into the labels input on backprop by default.\n",
      "\n",
      "See @{tf.nn.softmax_cross_entropy_with_logits_v2}.\n",
      "\n",
      "Training...\n",
      "\n",
      "EPOCH 1: Training Accuracy = 0.348, Validation Accuracy = 0.607, Loss = 0.029\n",
      "\n",
      "EPOCH 2: Training Accuracy = 0.849, Validation Accuracy = 0.865, Loss = 0.008\n",
      "\n",
      "EPOCH 3: Training Accuracy = 0.965, Validation Accuracy = 0.913, Loss = 0.003\n",
      "\n",
      "EPOCH 4: Training Accuracy = 0.987, Validation Accuracy = 0.948, Loss = 0.002\n",
      "\n",
      "EPOCH 5: Training Accuracy = 0.994, Validation Accuracy = 0.950, Loss = 0.001\n",
      "\n",
      "EPOCH 6: Training Accuracy = 0.997, Validation Accuracy = 0.955, Loss = 0.001\n",
      "\n",
      "EPOCH 7: Training Accuracy = 0.998, Validation Accuracy = 0.953, Loss = 0.000\n",
      "\n",
      "EPOCH 8: Training Accuracy = 0.998, Validation Accuracy = 0.968, Loss = 0.000\n",
      "\n",
      "EPOCH 9: Training Accuracy = 0.999, Validation Accuracy = 0.970, Loss = 0.000\n",
      "\n",
      "EPOCH 10: Training Accuracy = 0.999, Validation Accuracy = 0.971, Loss = 0.000\n",
      "\n"
     ]
    },
    {
     "data": {
      "image/png": "[encoded data removed]",
      "text/plain": [
       "<Figure size 432x288 with 1 Axes>"
      ]
     },
     "metadata": {},
     "output_type": "display_data"
    },
    {
     "name": "stdout",
     "output_type": "stream",
     "text": [
      "Model saved\n"
     ]
    }
   ],
   "source": [
    "EPOCHS = 10\n",
    "BATCH_SIZE = 128\n",
    "learning_rate = 0.0007\n",
    "\n",
    "x = tf.placeholder(tf.float32, (None, 32, 32, 1),name='x')\n",
    "y = tf.placeholder(tf.int32, (None),name='y')\n",
    "one_hot_y = tf.one_hot(y, 43)    \n",
    "keep_prob = tf.placeholder(tf.float32,name='keep_prob') # dropout\n",
    "\n",
    "logits = LeNet(x, keep_prob)\n",
    "cross_entropy = tf.nn.softmax_cross_entropy_with_logits(labels=one_hot_y, logits=logits)\n",
    "loss_operation = tf.reduce_mean(cross_entropy,name='loss')\n",
    "optimizer = tf.train.AdamOptimizer(learning_rate = learning_rate)\n",
    "training_operation = optimizer.minimize(loss_operation)\n",
    "\n",
    "correct_prediction = tf.equal(tf.argmax(logits, 1), tf.argmax(one_hot_y, 1))\n",
    "accuracy_operation = tf.reduce_mean(tf.cast(correct_prediction, tf.float32),name='accuracy')\n",
    "\n",
    "saver = tf.train.Saver()\n",
    "\n",
    "def evaluate(X_data, y_data):\n",
    "    num_examples = len(X_data)\n",
    "    total_accuracy = 0\n",
    "    sess = tf.get_default_session()\n",
    "    for offset in range(0, num_examples, BATCH_SIZE):\n",
    "        batch_x, batch_y = X_data[offset:offset+BATCH_SIZE], y_data[offset:offset+BATCH_SIZE]\n",
    "        accuracy = sess.run(accuracy_operation, feed_dict={x: batch_x, y: batch_y, keep_prob: 1.0})\n",
    "        total_accuracy += (accuracy * len(batch_x))\n",
    "    return total_accuracy / num_examples\n",
    "\n",
    "print(\"Training...\")\n",
    "print()\n",
    "\n",
    "with tf.Session() as sess:\n",
    "    sess.run(tf.global_variables_initializer())\n",
    "    train_acc = []\n",
    "    valid_acc = []\n",
    "    for i in range(EPOCHS):\n",
    "        X_train, y_train = shuffle(X_train, y_train)\n",
    "        total_accuracy = 0\n",
    "        total_loss = 0\n",
    "        for offset in range(0, n_train, BATCH_SIZE):\n",
    "            end = offset + BATCH_SIZE\n",
    "            batch_x, batch_y = X_train[offset:end], y_train[offset:end]                \n",
    "            _,loss = sess.run([training_operation,loss_operation], feed_dict={x: batch_x, y: batch_y, keep_prob: 0.7})\n",
    "\n",
    "            accuracy = sess.run(accuracy_operation, feed_dict={x: batch_x, y: batch_y, keep_prob: 1.0})\n",
    "            total_accuracy += (accuracy * len(batch_x))\n",
    "            total_loss += loss\n",
    "\n",
    "        training_accuracy = total_accuracy/n_train\n",
    "        train_acc.append(training_accuracy)\n",
    "        validation_accuracy = evaluate(X_valid, y_valid)\n",
    "        valid_acc.append(validation_accuracy)\n",
    "        \n",
    "        print(\"EPOCH {}: Training Accuracy = {:.3f}, Validation Accuracy = {:.3f}, Loss = {:.3f}\"\n",
    "              .format(i+1,training_accuracy,validation_accuracy,total_loss/n_train))\n",
    "        print()\n",
    "\n",
    "    plot_train(train_acc, valid_acc)\n",
    "    saver.save(sess, './model/Model_color_3ch')\n",
    "    print(\"Model saved\")"
   ]
  },
  {
   "cell_type": "markdown",
   "metadata": {},
   "source": [
    "### Model load 후 test 확인"
   ]
  },
  {
   "cell_type": "code",
   "execution_count": 10,
   "metadata": {},
   "outputs": [
    {
     "name": "stdout",
     "output_type": "stream",
     "text": [
      "INFO:tensorflow:Restoring parameters from ./model/Model_color_3ch\n",
      "Test Accuracy = 0.950\n"
     ]
    }
   ],
   "source": [
    "save_model_path = './model/Model_color_3ch'\n",
    "\n",
    "with tf.Session() as sess:\n",
    "    saver.restore(sess, save_model_path)\n",
    "\n",
    "    test_accuracy = evaluate(X_test, y_test)\n",
    "    print(\"Test Accuracy = {:.3f}\".format(test_accuracy))"
   ]
  },
  {
   "cell_type": "code",
   "execution_count": null,
   "metadata": {},
   "outputs": [],
   "source": []
  }
 ],
 "metadata": {
  "kernelspec": {
   "display_name": "Python 3",
   "language": "python",
   "name": "python3"
  },
  "language_info": {
   "codemirror_mode": {
    "name": "ipython",
    "version": 3
   },
   "file_extension": ".py",
   "mimetype": "text/x-python",
   "name": "python",
   "nbconvert_exporter": "python",
   "pygments_lexer": "ipython3",
   "version": "3.6.6"
  },
  "widgets": {
   "state": {},
   "version": "1.1.2"
  }
 },
 "nbformat": 4,
 "nbformat_minor": 1
}
